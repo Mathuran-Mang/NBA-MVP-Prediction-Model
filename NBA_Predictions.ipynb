{
 "cells": [
  {
   "cell_type": "code",
   "execution_count": 1,
   "id": "97929105",
   "metadata": {},
   "outputs": [
    {
     "name": "stdout",
     "output_type": "stream",
     "text": [
      "Requirement already satisfied: xgboost in /opt/anaconda3/lib/python3.9/site-packages (1.7.1)\r\n",
      "Requirement already satisfied: scipy in /opt/anaconda3/lib/python3.9/site-packages (from xgboost) (1.7.3)\r\n",
      "Requirement already satisfied: numpy in /opt/anaconda3/lib/python3.9/site-packages (from xgboost) (1.21.5)\r\n"
     ]
    }
   ],
   "source": [
    "!pip install xgboost"
   ]
  },
  {
   "cell_type": "code",
   "execution_count": 2,
   "id": "887d98a1",
   "metadata": {},
   "outputs": [],
   "source": [
    "import numpy as np \n",
    "import pandas as pd \n",
    "        \n",
    "import seaborn as sns\n",
    "import matplotlib.pyplot as plt\n",
    "import xgboost as xg\n",
    "from sklearn.metrics import mean_squared_error as MSE\n",
    "from sklearn.linear_model import LinearRegression\n"
   ]
  },
  {
   "cell_type": "code",
   "execution_count": 3,
   "id": "435e5391",
   "metadata": {},
   "outputs": [
    {
     "data": {
      "text/html": [
       "<div>\n",
       "<style scoped>\n",
       "    .dataframe tbody tr th:only-of-type {\n",
       "        vertical-align: middle;\n",
       "    }\n",
       "\n",
       "    .dataframe tbody tr th {\n",
       "        vertical-align: top;\n",
       "    }\n",
       "\n",
       "    .dataframe thead th {\n",
       "        text-align: right;\n",
       "    }\n",
       "</style>\n",
       "<table border=\"1\" class=\"dataframe\">\n",
       "  <thead>\n",
       "    <tr style=\"text-align: right;\">\n",
       "      <th></th>\n",
       "      <th>Rank</th>\n",
       "      <th>Player</th>\n",
       "      <th>Age</th>\n",
       "      <th>Tm</th>\n",
       "      <th>First</th>\n",
       "      <th>Pts Won</th>\n",
       "      <th>Pts Max</th>\n",
       "      <th>Share</th>\n",
       "      <th>G</th>\n",
       "      <th>MP</th>\n",
       "      <th>...</th>\n",
       "      <th>turnover_percentage</th>\n",
       "      <th>usage_percentage</th>\n",
       "      <th>offensive_win_shares</th>\n",
       "      <th>defensive_win_shares</th>\n",
       "      <th>win_shares</th>\n",
       "      <th>win_shares_per_48_minutes</th>\n",
       "      <th>offensive_box_plus_minus</th>\n",
       "      <th>defensive_box_plus_minus</th>\n",
       "      <th>box_plus_minus</th>\n",
       "      <th>value_over_replacement_player</th>\n",
       "    </tr>\n",
       "  </thead>\n",
       "  <tbody>\n",
       "    <tr>\n",
       "      <th>0</th>\n",
       "      <td>1</td>\n",
       "      <td>Kareem Abdul-Jabbar</td>\n",
       "      <td>32</td>\n",
       "      <td>LAL</td>\n",
       "      <td>147.0</td>\n",
       "      <td>147.0</td>\n",
       "      <td>221</td>\n",
       "      <td>0.665</td>\n",
       "      <td>82</td>\n",
       "      <td>38.3</td>\n",
       "      <td>...</td>\n",
       "      <td>15.7</td>\n",
       "      <td>24.1</td>\n",
       "      <td>9.5</td>\n",
       "      <td>5.3</td>\n",
       "      <td>14.8</td>\n",
       "      <td>0.227</td>\n",
       "      <td>4.8</td>\n",
       "      <td>2.4</td>\n",
       "      <td>7.2</td>\n",
       "      <td>7.3</td>\n",
       "    </tr>\n",
       "    <tr>\n",
       "      <th>1</th>\n",
       "      <td>2</td>\n",
       "      <td>Julius Erving</td>\n",
       "      <td>29</td>\n",
       "      <td>PHI</td>\n",
       "      <td>31.5</td>\n",
       "      <td>31.5</td>\n",
       "      <td>221</td>\n",
       "      <td>0.143</td>\n",
       "      <td>78</td>\n",
       "      <td>36.1</td>\n",
       "      <td>...</td>\n",
       "      <td>13.3</td>\n",
       "      <td>30.3</td>\n",
       "      <td>7.3</td>\n",
       "      <td>5.2</td>\n",
       "      <td>12.5</td>\n",
       "      <td>0.213</td>\n",
       "      <td>5.7</td>\n",
       "      <td>1.9</td>\n",
       "      <td>7.6</td>\n",
       "      <td>6.8</td>\n",
       "    </tr>\n",
       "    <tr>\n",
       "      <th>2</th>\n",
       "      <td>3</td>\n",
       "      <td>George Gervin</td>\n",
       "      <td>27</td>\n",
       "      <td>SAS</td>\n",
       "      <td>19.0</td>\n",
       "      <td>19.0</td>\n",
       "      <td>221</td>\n",
       "      <td>0.086</td>\n",
       "      <td>78</td>\n",
       "      <td>37.6</td>\n",
       "      <td>...</td>\n",
       "      <td>10.3</td>\n",
       "      <td>31.7</td>\n",
       "      <td>9.3</td>\n",
       "      <td>1.3</td>\n",
       "      <td>10.6</td>\n",
       "      <td>0.173</td>\n",
       "      <td>5.5</td>\n",
       "      <td>-1.6</td>\n",
       "      <td>3.9</td>\n",
       "      <td>4.4</td>\n",
       "    </tr>\n",
       "    <tr>\n",
       "      <th>3</th>\n",
       "      <td>4</td>\n",
       "      <td>Larry Bird</td>\n",
       "      <td>23</td>\n",
       "      <td>BOS</td>\n",
       "      <td>15.0</td>\n",
       "      <td>15.0</td>\n",
       "      <td>221</td>\n",
       "      <td>0.068</td>\n",
       "      <td>82</td>\n",
       "      <td>36.0</td>\n",
       "      <td>...</td>\n",
       "      <td>14.0</td>\n",
       "      <td>25.3</td>\n",
       "      <td>5.6</td>\n",
       "      <td>5.6</td>\n",
       "      <td>11.2</td>\n",
       "      <td>0.182</td>\n",
       "      <td>3.0</td>\n",
       "      <td>1.5</td>\n",
       "      <td>4.5</td>\n",
       "      <td>4.8</td>\n",
       "    </tr>\n",
       "    <tr>\n",
       "      <th>4</th>\n",
       "      <td>5T</td>\n",
       "      <td>Tiny Archibald</td>\n",
       "      <td>31</td>\n",
       "      <td>BOS</td>\n",
       "      <td>2.0</td>\n",
       "      <td>2.0</td>\n",
       "      <td>221</td>\n",
       "      <td>0.009</td>\n",
       "      <td>80</td>\n",
       "      <td>35.8</td>\n",
       "      <td>...</td>\n",
       "      <td>19.7</td>\n",
       "      <td>17.0</td>\n",
       "      <td>5.9</td>\n",
       "      <td>2.9</td>\n",
       "      <td>8.9</td>\n",
       "      <td>0.148</td>\n",
       "      <td>1.4</td>\n",
       "      <td>-0.3</td>\n",
       "      <td>1.1</td>\n",
       "      <td>2.3</td>\n",
       "    </tr>\n",
       "    <tr>\n",
       "      <th>...</th>\n",
       "      <td>...</td>\n",
       "      <td>...</td>\n",
       "      <td>...</td>\n",
       "      <td>...</td>\n",
       "      <td>...</td>\n",
       "      <td>...</td>\n",
       "      <td>...</td>\n",
       "      <td>...</td>\n",
       "      <td>...</td>\n",
       "      <td>...</td>\n",
       "      <td>...</td>\n",
       "      <td>...</td>\n",
       "      <td>...</td>\n",
       "      <td>...</td>\n",
       "      <td>...</td>\n",
       "      <td>...</td>\n",
       "      <td>...</td>\n",
       "      <td>...</td>\n",
       "      <td>...</td>\n",
       "      <td>...</td>\n",
       "      <td>...</td>\n",
       "    </tr>\n",
       "    <tr>\n",
       "      <th>674</th>\n",
       "      <td>10</td>\n",
       "      <td>Rudy Gobert</td>\n",
       "      <td>28</td>\n",
       "      <td>UTA</td>\n",
       "      <td>0.0</td>\n",
       "      <td>8.0</td>\n",
       "      <td>1010</td>\n",
       "      <td>0.008</td>\n",
       "      <td>71</td>\n",
       "      <td>30.8</td>\n",
       "      <td>...</td>\n",
       "      <td>13.7</td>\n",
       "      <td>17.0</td>\n",
       "      <td>6.1</td>\n",
       "      <td>5.2</td>\n",
       "      <td>11.3</td>\n",
       "      <td>0.248</td>\n",
       "      <td>2.1</td>\n",
       "      <td>2.8</td>\n",
       "      <td>4.9</td>\n",
       "      <td>3.8</td>\n",
       "    </tr>\n",
       "    <tr>\n",
       "      <th>675</th>\n",
       "      <td>11</td>\n",
       "      <td>Russell Westbrook</td>\n",
       "      <td>32</td>\n",
       "      <td>WAS</td>\n",
       "      <td>0.0</td>\n",
       "      <td>5.0</td>\n",
       "      <td>1010</td>\n",
       "      <td>0.005</td>\n",
       "      <td>65</td>\n",
       "      <td>36.4</td>\n",
       "      <td>...</td>\n",
       "      <td>18.0</td>\n",
       "      <td>30.2</td>\n",
       "      <td>0.5</td>\n",
       "      <td>3.2</td>\n",
       "      <td>3.7</td>\n",
       "      <td>0.075</td>\n",
       "      <td>2.6</td>\n",
       "      <td>1.1</td>\n",
       "      <td>3.7</td>\n",
       "      <td>3.4</td>\n",
       "    </tr>\n",
       "    <tr>\n",
       "      <th>676</th>\n",
       "      <td>12</td>\n",
       "      <td>Ben Simmons</td>\n",
       "      <td>24</td>\n",
       "      <td>PHI</td>\n",
       "      <td>0.0</td>\n",
       "      <td>3.0</td>\n",
       "      <td>1010</td>\n",
       "      <td>0.003</td>\n",
       "      <td>58</td>\n",
       "      <td>32.4</td>\n",
       "      <td>...</td>\n",
       "      <td>19.6</td>\n",
       "      <td>20.2</td>\n",
       "      <td>2.7</td>\n",
       "      <td>3.3</td>\n",
       "      <td>6.0</td>\n",
       "      <td>0.153</td>\n",
       "      <td>0.7</td>\n",
       "      <td>2.2</td>\n",
       "      <td>2.9</td>\n",
       "      <td>2.3</td>\n",
       "    </tr>\n",
       "    <tr>\n",
       "      <th>677</th>\n",
       "      <td>13T</td>\n",
       "      <td>LeBron James</td>\n",
       "      <td>36</td>\n",
       "      <td>LAL</td>\n",
       "      <td>0.0</td>\n",
       "      <td>1.0</td>\n",
       "      <td>1010</td>\n",
       "      <td>0.001</td>\n",
       "      <td>45</td>\n",
       "      <td>33.4</td>\n",
       "      <td>...</td>\n",
       "      <td>15.2</td>\n",
       "      <td>31.9</td>\n",
       "      <td>3.0</td>\n",
       "      <td>2.6</td>\n",
       "      <td>5.6</td>\n",
       "      <td>0.179</td>\n",
       "      <td>5.9</td>\n",
       "      <td>2.3</td>\n",
       "      <td>8.1</td>\n",
       "      <td>3.8</td>\n",
       "    </tr>\n",
       "    <tr>\n",
       "      <th>678</th>\n",
       "      <td>13T</td>\n",
       "      <td>Kawhi Leonard</td>\n",
       "      <td>29</td>\n",
       "      <td>LAC</td>\n",
       "      <td>0.0</td>\n",
       "      <td>1.0</td>\n",
       "      <td>1010</td>\n",
       "      <td>0.001</td>\n",
       "      <td>52</td>\n",
       "      <td>34.1</td>\n",
       "      <td>...</td>\n",
       "      <td>9.2</td>\n",
       "      <td>28.6</td>\n",
       "      <td>6.4</td>\n",
       "      <td>2.4</td>\n",
       "      <td>8.8</td>\n",
       "      <td>0.238</td>\n",
       "      <td>6.0</td>\n",
       "      <td>1.3</td>\n",
       "      <td>7.3</td>\n",
       "      <td>4.2</td>\n",
       "    </tr>\n",
       "  </tbody>\n",
       "</table>\n",
       "<p>679 rows × 45 columns</p>\n",
       "</div>"
      ],
      "text/plain": [
       "    Rank               Player  Age   Tm  First  Pts Won  Pts Max  Share   G  \\\n",
       "0      1  Kareem Abdul-Jabbar   32  LAL  147.0    147.0      221  0.665  82   \n",
       "1      2        Julius Erving   29  PHI   31.5     31.5      221  0.143  78   \n",
       "2      3        George Gervin   27  SAS   19.0     19.0      221  0.086  78   \n",
       "3      4           Larry Bird   23  BOS   15.0     15.0      221  0.068  82   \n",
       "4     5T       Tiny Archibald   31  BOS    2.0      2.0      221  0.009  80   \n",
       "..   ...                  ...  ...  ...    ...      ...      ...    ...  ..   \n",
       "674   10          Rudy Gobert   28  UTA    0.0      8.0     1010  0.008  71   \n",
       "675   11    Russell Westbrook   32  WAS    0.0      5.0     1010  0.005  65   \n",
       "676   12          Ben Simmons   24  PHI    0.0      3.0     1010  0.003  58   \n",
       "677  13T         LeBron James   36  LAL    0.0      1.0     1010  0.001  45   \n",
       "678  13T        Kawhi Leonard   29  LAC    0.0      1.0     1010  0.001  52   \n",
       "\n",
       "       MP  ...  turnover_percentage  usage_percentage  offensive_win_shares  \\\n",
       "0    38.3  ...                 15.7              24.1                   9.5   \n",
       "1    36.1  ...                 13.3              30.3                   7.3   \n",
       "2    37.6  ...                 10.3              31.7                   9.3   \n",
       "3    36.0  ...                 14.0              25.3                   5.6   \n",
       "4    35.8  ...                 19.7              17.0                   5.9   \n",
       "..    ...  ...                  ...               ...                   ...   \n",
       "674  30.8  ...                 13.7              17.0                   6.1   \n",
       "675  36.4  ...                 18.0              30.2                   0.5   \n",
       "676  32.4  ...                 19.6              20.2                   2.7   \n",
       "677  33.4  ...                 15.2              31.9                   3.0   \n",
       "678  34.1  ...                  9.2              28.6                   6.4   \n",
       "\n",
       "     defensive_win_shares  win_shares  win_shares_per_48_minutes  \\\n",
       "0                     5.3        14.8                      0.227   \n",
       "1                     5.2        12.5                      0.213   \n",
       "2                     1.3        10.6                      0.173   \n",
       "3                     5.6        11.2                      0.182   \n",
       "4                     2.9         8.9                      0.148   \n",
       "..                    ...         ...                        ...   \n",
       "674                   5.2        11.3                      0.248   \n",
       "675                   3.2         3.7                      0.075   \n",
       "676                   3.3         6.0                      0.153   \n",
       "677                   2.6         5.6                      0.179   \n",
       "678                   2.4         8.8                      0.238   \n",
       "\n",
       "     offensive_box_plus_minus  defensive_box_plus_minus  box_plus_minus  \\\n",
       "0                         4.8                       2.4             7.2   \n",
       "1                         5.7                       1.9             7.6   \n",
       "2                         5.5                      -1.6             3.9   \n",
       "3                         3.0                       1.5             4.5   \n",
       "4                         1.4                      -0.3             1.1   \n",
       "..                        ...                       ...             ...   \n",
       "674                       2.1                       2.8             4.9   \n",
       "675                       2.6                       1.1             3.7   \n",
       "676                       0.7                       2.2             2.9   \n",
       "677                       5.9                       2.3             8.1   \n",
       "678                       6.0                       1.3             7.3   \n",
       "\n",
       "     value_over_replacement_player  \n",
       "0                              7.3  \n",
       "1                              6.8  \n",
       "2                              4.4  \n",
       "3                              4.8  \n",
       "4                              2.3  \n",
       "..                             ...  \n",
       "674                            3.8  \n",
       "675                            3.4  \n",
       "676                            2.3  \n",
       "677                            3.8  \n",
       "678                            4.2  \n",
       "\n",
       "[679 rows x 45 columns]"
      ]
     },
     "execution_count": 3,
     "metadata": {},
     "output_type": "execute_result"
    }
   ],
   "source": [
    "data= pd.read_csv('player_stats.csv')\n",
    "data"
   ]
  },
  {
   "cell_type": "code",
   "execution_count": 4,
   "id": "ea4037b9",
   "metadata": {
    "scrolled": true
   },
   "outputs": [],
   "source": [
    "data = data.drop(['Rank', 'Age', 'Tm', 'First', 'Pts Won', 'WS/48', 'WS'], axis = 1)"
   ]
  },
  {
   "cell_type": "markdown",
   "id": "5d8f60b6",
   "metadata": {},
   "source": [
    "Training on everything untill 2020 and testing on 2021 data"
   ]
  },
  {
   "cell_type": "code",
   "execution_count": 5,
   "id": "6f2acde1",
   "metadata": {},
   "outputs": [],
   "source": [
    "train_data = data[data['year']<=2020]\n",
    "test_data = data[data['year']>=2021]"
   ]
  },
  {
   "cell_type": "code",
   "execution_count": 6,
   "id": "507d3d68",
   "metadata": {},
   "outputs": [],
   "source": [
    "train_data_1980 = train_data.copy()\n",
    "train_data_2000 =train_data[train_data['year']>=2000]\n",
    "train_data_2010 =train_data[train_data['year']>=2010]"
   ]
  },
  {
   "cell_type": "markdown",
   "id": "d28d5c80",
   "metadata": {},
   "source": [
    "After trying different number of features and analyzing their correlation values, having the top 11 features seem to be giving us the best results"
   ]
  },
  {
   "cell_type": "code",
   "execution_count": 7,
   "id": "79db53d6",
   "metadata": {},
   "outputs": [],
   "source": [
    "top_corr_1980 = train_data_1980.corr()[\"Share\"].abs().sort_values(ascending = False)\n",
    "top_corr_2000 = train_data_2000.corr()[\"Share\"].abs().sort_values(ascending = False)\n",
    "top_corr_2010 = train_data_2010.corr()[\"Share\"].abs().sort_values(ascending = False)"
   ]
  },
  {
   "cell_type": "code",
   "execution_count": 8,
   "id": "72c6e0e8",
   "metadata": {},
   "outputs": [],
   "source": [
    "features_1980 = top_corr_1980[:11].index\n",
    "features_2000 = top_corr_2000[:11].index\n",
    "features_2010 = top_corr_2010[:11].index"
   ]
  },
  {
   "cell_type": "code",
   "execution_count": 9,
   "id": "d1ca7b1f",
   "metadata": {},
   "outputs": [
    {
     "data": {
      "text/plain": [
       "Index(['value_over_replacement_player', 'win_shares', 'box_plus_minus',\n",
       "       'win_shares_per_48_minutes', 'player_efficiency_rating',\n",
       "       'offensive_box_plus_minus', 'offensive_win_shares', 'PTS',\n",
       "       'usage_percentage', 'W/L%'],\n",
       "      dtype='object')"
      ]
     },
     "execution_count": 9,
     "metadata": {},
     "output_type": "execute_result"
    }
   ],
   "source": [
    "features_1980[1:]"
   ]
  },
  {
   "cell_type": "code",
   "execution_count": 10,
   "id": "c8e96180",
   "metadata": {},
   "outputs": [],
   "source": [
    "train_x_1980 = train_data_1980[features_1980[1:]]\n",
    "train_y_1980 = train_data_1980[features_1980[0]]\n",
    "train_x_2000 = train_data_2000[features_2000[1:]]\n",
    "train_y_2000 = train_data_2000[features_2000[0]]\n",
    "train_x_2010 = train_data_2010[features_2010[1:]]\n",
    "train_y_2010 = train_data_2010[features_2010[0]]\n",
    "\n",
    "test_x_1980 = test_data[features_1980[1:]]\n",
    "test_y_1980 = test_data[features_1980[0]]\n",
    "test_x_2000 = test_data[features_2000[1:]]\n",
    "test_y_2000 = test_data[features_2000[0]]\n",
    "test_x_2010 = test_data[features_2010[1:]]\n",
    "test_y_2010 = test_data[features_2010[0]]"
   ]
  },
  {
   "cell_type": "markdown",
   "id": "faddedfb",
   "metadata": {},
   "source": [
    "## Linear Regression"
   ]
  },
  {
   "cell_type": "code",
   "execution_count": 11,
   "id": "9731f6e3",
   "metadata": {},
   "outputs": [
    {
     "name": "stdout",
     "output_type": "stream",
     "text": [
      "RMSE :  0.204880\n"
     ]
    }
   ],
   "source": [
    "regr = LinearRegression()\n",
    "regr.fit(train_x_1980, train_y_1980)\n",
    "regr.fit(train_x_1980, train_y_1980)\n",
    "lin_pred1980 = regr.predict(test_x_1980)\n",
    "rmse = np.sqrt(MSE(test_y_1980, lin_pred1980))\n",
    "print(\"RMSE : % f\" %(rmse))"
   ]
  },
  {
   "cell_type": "code",
   "execution_count": 12,
   "id": "27a7ad9d",
   "metadata": {},
   "outputs": [
    {
     "ename": "NameError",
     "evalue": "name 'lin_pred2010' is not defined",
     "output_type": "error",
     "traceback": [
      "\u001b[0;31m---------------------------------------------------------------------------\u001b[0m",
      "\u001b[0;31mNameError\u001b[0m                                 Traceback (most recent call last)",
      "Input \u001b[0;32mIn [12]\u001b[0m, in \u001b[0;36m<cell line: 5>\u001b[0;34m()\u001b[0m\n\u001b[1;32m      3\u001b[0m regr\u001b[38;5;241m.\u001b[39mfit(train_x_2000, train_y_2000)\n\u001b[1;32m      4\u001b[0m lin_pred2000 \u001b[38;5;241m=\u001b[39m regr\u001b[38;5;241m.\u001b[39mpredict(test_x_2000)\n\u001b[0;32m----> 5\u001b[0m rmse \u001b[38;5;241m=\u001b[39m np\u001b[38;5;241m.\u001b[39msqrt(MSE(test_y_2010, \u001b[43mlin_pred2010\u001b[49m))\n\u001b[1;32m      6\u001b[0m \u001b[38;5;28mprint\u001b[39m(\u001b[38;5;124m\"\u001b[39m\u001b[38;5;124mRMSE : \u001b[39m\u001b[38;5;132;01m% f\u001b[39;00m\u001b[38;5;124m\"\u001b[39m \u001b[38;5;241m%\u001b[39m(rmse))\n",
      "\u001b[0;31mNameError\u001b[0m: name 'lin_pred2010' is not defined"
     ]
    }
   ],
   "source": [
    "regr = LinearRegression()\n",
    "regr.fit(train_x_2000, train_y_2000)\n",
    "regr.fit(train_x_2000, train_y_2000)\n",
    "lin_pred2000 = regr.predict(test_x_2000)\n",
    "rmse = np.sqrt(MSE(test_y_2000, lin_pred2000))\n",
    "print(\"RMSE : % f\" %(rmse))"
   ]
  },
  {
   "cell_type": "code",
   "execution_count": null,
   "id": "35f73cf1",
   "metadata": {},
   "outputs": [],
   "source": [
    "regr = LinearRegression()  \n",
    "regr.fit(train_x_2010, train_y_2010)\n",
    "lin_pred2010 = regr.predict(test_x_2010)\n",
    "rmse = np.sqrt(MSE(test_y_2010, lin_pred2010))\n",
    "print(\"RMSE : % f\" %(rmse))"
   ]
  },
  {
   "cell_type": "markdown",
   "id": "346d9d65",
   "metadata": {},
   "source": [
    "## XGboost\n"
   ]
  },
  {
   "cell_type": "code",
   "execution_count": 20,
   "id": "f66f3b05",
   "metadata": {},
   "outputs": [
    {
     "name": "stdout",
     "output_type": "stream",
     "text": [
      "RMSE :  0.216531\n"
     ]
    }
   ],
   "source": [
    "xgb_r_1980 = xg.XGBRegressor(n_estimators = 1000)\n",
    "xgb_r_1980.fit(train_x_1980, train_y_1980)\n",
    "pred1980 = xgb_r_1980.predict(test_x_1980)\n",
    "rmse = np.sqrt(MSE(test_y_1980, pred1980))\n",
    "print(\"RMSE : % f\" %(rmse))"
   ]
  },
  {
   "cell_type": "code",
   "execution_count": 22,
   "id": "37598a5b",
   "metadata": {},
   "outputs": [
    {
     "name": "stdout",
     "output_type": "stream",
     "text": [
      "RMSE :  0.157136\n"
     ]
    }
   ],
   "source": [
    "xgb_r_2000 = xg.XGBRegressor(n_estimators = 1000)\n",
    "xgb_r_2000.fit(train_x_2000, train_y_2000)\n",
    "pred2000 = xgb_r_2000.predict(test_x_2000)\n",
    "rmse = np.sqrt(MSE(test_y_2000, pred2000))\n",
    "print(\"RMSE : % f\" %(rmse))"
   ]
  },
  {
   "cell_type": "code",
   "execution_count": 23,
   "id": "9713a90a",
   "metadata": {},
   "outputs": [
    {
     "name": "stdout",
     "output_type": "stream",
     "text": [
      "RMSE :  0.115997\n"
     ]
    }
   ],
   "source": [
    "xgb_r_2010 = xg.XGBRegressor(n_estimators = 1000)\n",
    "xgb_r_2010.fit(train_x_2010, train_y_2010)\n",
    "pred2010 = xgb_r_2010.predict(test_x_2010)\n",
    "rmse = np.sqrt(MSE(test_y_2010, pred2010))\n",
    "print(\"RMSE : % f\" %(rmse))"
   ]
  },
  {
   "cell_type": "code",
   "execution_count": 24,
   "id": "e1d170f0",
   "metadata": {},
   "outputs": [
    {
     "data": {
      "text/plain": [
       "array([0.9976028 , 0.38322684, 0.31370062, 0.23348995, 0.00431792,\n",
       "       0.18586592, 0.19377361, 0.15959862, 0.03154274, 0.01327794,\n",
       "       0.0043678 , 0.12645501, 0.07472263], dtype=float32)"
      ]
     },
     "execution_count": 24,
     "metadata": {},
     "output_type": "execute_result"
    }
   ],
   "source": [
    "pred2010"
   ]
  },
  {
   "cell_type": "code",
   "execution_count": 26,
   "id": "ee5a2021",
   "metadata": {},
   "outputs": [],
   "source": [
    "temp = test_data[[\"Player\", \"Share\"]]"
   ]
  },
  {
   "cell_type": "code",
   "execution_count": 27,
   "id": "f4240a49",
   "metadata": {},
   "outputs": [
    {
     "name": "stderr",
     "output_type": "stream",
     "text": [
      "/var/folders/ph/lbdk_kvj30q8xxsgkfx7w6zr0000gn/T/ipykernel_47786/2414001572.py:1: SettingWithCopyWarning: \n",
      "A value is trying to be set on a copy of a slice from a DataFrame.\n",
      "Try using .loc[row_indexer,col_indexer] = value instead\n",
      "\n",
      "See the caveats in the documentation: https://pandas.pydata.org/pandas-docs/stable/user_guide/indexing.html#returning-a-view-versus-a-copy\n",
      "  temp[\"pred2010\"] = pred2010\n"
     ]
    }
   ],
   "source": [
    "temp[\"pred2010\"] = pred2010"
   ]
  },
  {
   "cell_type": "code",
   "execution_count": 31,
   "id": "242ab8e0",
   "metadata": {},
   "outputs": [
    {
     "name": "stderr",
     "output_type": "stream",
     "text": [
      "/var/folders/ph/lbdk_kvj30q8xxsgkfx7w6zr0000gn/T/ipykernel_47786/2700557675.py:1: SettingWithCopyWarning: \n",
      "A value is trying to be set on a copy of a slice from a DataFrame.\n",
      "Try using .loc[row_indexer,col_indexer] = value instead\n",
      "\n",
      "See the caveats in the documentation: https://pandas.pydata.org/pandas-docs/stable/user_guide/indexing.html#returning-a-view-versus-a-copy\n",
      "  temp[\"pred1980\"] = pred1980\n"
     ]
    }
   ],
   "source": [
    "temp[\"pred1980\"] = pred1980"
   ]
  },
  {
   "cell_type": "code",
   "execution_count": 32,
   "id": "a648ab4a",
   "metadata": {},
   "outputs": [
    {
     "name": "stderr",
     "output_type": "stream",
     "text": [
      "/var/folders/ph/lbdk_kvj30q8xxsgkfx7w6zr0000gn/T/ipykernel_47786/1543066517.py:1: SettingWithCopyWarning: \n",
      "A value is trying to be set on a copy of a slice from a DataFrame.\n",
      "Try using .loc[row_indexer,col_indexer] = value instead\n",
      "\n",
      "See the caveats in the documentation: https://pandas.pydata.org/pandas-docs/stable/user_guide/indexing.html#returning-a-view-versus-a-copy\n",
      "  temp[\"pred2000\"] = pred2000\n"
     ]
    }
   ],
   "source": [
    "temp[\"pred2000\"] = pred2000"
   ]
  },
  {
   "cell_type": "code",
   "execution_count": 33,
   "id": "a69b0916",
   "metadata": {},
   "outputs": [
    {
     "data": {
      "text/html": [
       "<div>\n",
       "<style scoped>\n",
       "    .dataframe tbody tr th:only-of-type {\n",
       "        vertical-align: middle;\n",
       "    }\n",
       "\n",
       "    .dataframe tbody tr th {\n",
       "        vertical-align: top;\n",
       "    }\n",
       "\n",
       "    .dataframe thead th {\n",
       "        text-align: right;\n",
       "    }\n",
       "</style>\n",
       "<table border=\"1\" class=\"dataframe\">\n",
       "  <thead>\n",
       "    <tr style=\"text-align: right;\">\n",
       "      <th></th>\n",
       "      <th>Player</th>\n",
       "      <th>Share</th>\n",
       "      <th>pred2010</th>\n",
       "      <th>pred2000</th>\n",
       "      <th>pred1980</th>\n",
       "    </tr>\n",
       "  </thead>\n",
       "  <tbody>\n",
       "    <tr>\n",
       "      <th>666</th>\n",
       "      <td>Nikola Jokić</td>\n",
       "      <td>0.961</td>\n",
       "      <td>0.997603</td>\n",
       "      <td>0.804646</td>\n",
       "      <td>0.640032</td>\n",
       "    </tr>\n",
       "    <tr>\n",
       "      <th>667</th>\n",
       "      <td>Joel Embiid</td>\n",
       "      <td>0.580</td>\n",
       "      <td>0.383227</td>\n",
       "      <td>0.168019</td>\n",
       "      <td>0.078977</td>\n",
       "    </tr>\n",
       "    <tr>\n",
       "      <th>668</th>\n",
       "      <td>Stephen Curry</td>\n",
       "      <td>0.449</td>\n",
       "      <td>0.313701</td>\n",
       "      <td>0.218699</td>\n",
       "      <td>0.290415</td>\n",
       "    </tr>\n",
       "    <tr>\n",
       "      <th>669</th>\n",
       "      <td>Giannis Antetokounmpo</td>\n",
       "      <td>0.345</td>\n",
       "      <td>0.233490</td>\n",
       "      <td>0.436193</td>\n",
       "      <td>0.212240</td>\n",
       "    </tr>\n",
       "    <tr>\n",
       "      <th>670</th>\n",
       "      <td>Chris Paul</td>\n",
       "      <td>0.138</td>\n",
       "      <td>0.004318</td>\n",
       "      <td>0.007118</td>\n",
       "      <td>0.054841</td>\n",
       "    </tr>\n",
       "    <tr>\n",
       "      <th>671</th>\n",
       "      <td>Luka Dončić</td>\n",
       "      <td>0.042</td>\n",
       "      <td>0.185866</td>\n",
       "      <td>0.096062</td>\n",
       "      <td>0.480300</td>\n",
       "    </tr>\n",
       "    <tr>\n",
       "      <th>672</th>\n",
       "      <td>Damian Lillard</td>\n",
       "      <td>0.038</td>\n",
       "      <td>0.193774</td>\n",
       "      <td>0.053598</td>\n",
       "      <td>0.099843</td>\n",
       "    </tr>\n",
       "    <tr>\n",
       "      <th>673</th>\n",
       "      <td>Julius Randle</td>\n",
       "      <td>0.020</td>\n",
       "      <td>0.159599</td>\n",
       "      <td>-0.000527</td>\n",
       "      <td>0.102212</td>\n",
       "    </tr>\n",
       "    <tr>\n",
       "      <th>674</th>\n",
       "      <td>Rudy Gobert</td>\n",
       "      <td>0.008</td>\n",
       "      <td>0.031543</td>\n",
       "      <td>0.146065</td>\n",
       "      <td>0.056029</td>\n",
       "    </tr>\n",
       "    <tr>\n",
       "      <th>675</th>\n",
       "      <td>Russell Westbrook</td>\n",
       "      <td>0.005</td>\n",
       "      <td>0.013278</td>\n",
       "      <td>0.004959</td>\n",
       "      <td>0.019364</td>\n",
       "    </tr>\n",
       "    <tr>\n",
       "      <th>676</th>\n",
       "      <td>Ben Simmons</td>\n",
       "      <td>0.003</td>\n",
       "      <td>0.004368</td>\n",
       "      <td>0.137863</td>\n",
       "      <td>0.009157</td>\n",
       "    </tr>\n",
       "    <tr>\n",
       "      <th>677</th>\n",
       "      <td>LeBron James</td>\n",
       "      <td>0.001</td>\n",
       "      <td>0.126455</td>\n",
       "      <td>0.036211</td>\n",
       "      <td>0.015196</td>\n",
       "    </tr>\n",
       "    <tr>\n",
       "      <th>678</th>\n",
       "      <td>Kawhi Leonard</td>\n",
       "      <td>0.001</td>\n",
       "      <td>0.074723</td>\n",
       "      <td>0.080079</td>\n",
       "      <td>0.019368</td>\n",
       "    </tr>\n",
       "  </tbody>\n",
       "</table>\n",
       "</div>"
      ],
      "text/plain": [
       "                    Player  Share  pred2010  pred2000  pred1980\n",
       "666           Nikola Jokić  0.961  0.997603  0.804646  0.640032\n",
       "667            Joel Embiid  0.580  0.383227  0.168019  0.078977\n",
       "668          Stephen Curry  0.449  0.313701  0.218699  0.290415\n",
       "669  Giannis Antetokounmpo  0.345  0.233490  0.436193  0.212240\n",
       "670             Chris Paul  0.138  0.004318  0.007118  0.054841\n",
       "671            Luka Dončić  0.042  0.185866  0.096062  0.480300\n",
       "672         Damian Lillard  0.038  0.193774  0.053598  0.099843\n",
       "673          Julius Randle  0.020  0.159599 -0.000527  0.102212\n",
       "674            Rudy Gobert  0.008  0.031543  0.146065  0.056029\n",
       "675      Russell Westbrook  0.005  0.013278  0.004959  0.019364\n",
       "676            Ben Simmons  0.003  0.004368  0.137863  0.009157\n",
       "677           LeBron James  0.001  0.126455  0.036211  0.015196\n",
       "678          Kawhi Leonard  0.001  0.074723  0.080079  0.019368"
      ]
     },
     "execution_count": 33,
     "metadata": {},
     "output_type": "execute_result"
    }
   ],
   "source": [
    "temp"
   ]
  },
  {
   "cell_type": "code",
   "execution_count": 102,
   "id": "a05d7fe1",
   "metadata": {},
   "outputs": [
    {
     "data": {
      "text/plain": [
       "666    0.961\n",
       "667    0.580\n",
       "668    0.449\n",
       "669    0.345\n",
       "670    0.138\n",
       "671    0.042\n",
       "672    0.038\n",
       "673    0.020\n",
       "674    0.008\n",
       "675    0.005\n",
       "676    0.003\n",
       "677    0.001\n",
       "678    0.001\n",
       "Name: Share, dtype: float64"
      ]
     },
     "execution_count": 102,
     "metadata": {},
     "output_type": "execute_result"
    }
   ],
   "source": [
    "test_y_1980"
   ]
  },
  {
   "cell_type": "code",
   "execution_count": 103,
   "id": "8b9b7418",
   "metadata": {},
   "outputs": [
    {
     "data": {
      "text/plain": [
       "array([0.64003205, 0.07897741, 0.29041526, 0.21224023, 0.05484129,\n",
       "       0.4802996 , 0.09984305, 0.10221227, 0.05602938, 0.01936402,\n",
       "       0.00915666, 0.015196  , 0.01936756], dtype=float32)"
      ]
     },
     "execution_count": 103,
     "metadata": {},
     "output_type": "execute_result"
    }
   ],
   "source": [
    "pred1980\n"
   ]
  },
  {
   "cell_type": "code",
   "execution_count": 104,
   "id": "8e1f2fab",
   "metadata": {},
   "outputs": [
    {
     "data": {
      "text/plain": [
       "array([0.9976028 , 0.38322684, 0.31370062, 0.23348995, 0.00431792,\n",
       "       0.18586592, 0.19377361, 0.15959862, 0.03154274, 0.01327794,\n",
       "       0.0043678 , 0.12645501, 0.07472263], dtype=float32)"
      ]
     },
     "execution_count": 104,
     "metadata": {},
     "output_type": "execute_result"
    }
   ],
   "source": [
    "pred2010"
   ]
  },
  {
   "cell_type": "code",
   "execution_count": 105,
   "id": "b8468de1",
   "metadata": {},
   "outputs": [
    {
     "data": {
      "text/plain": [
       "array([ 8.0464602e-01,  1.6801867e-01,  2.1869901e-01,  4.3619305e-01,\n",
       "        7.1181082e-03,  9.6061639e-02,  5.3598199e-02, -5.2651105e-04,\n",
       "        1.4606506e-01,  4.9589588e-03,  1.3786319e-01,  3.6210593e-02,\n",
       "        8.0079041e-02], dtype=float32)"
      ]
     },
     "execution_count": 105,
     "metadata": {},
     "output_type": "execute_result"
    }
   ],
   "source": [
    "pred2000"
   ]
  },
  {
   "cell_type": "code",
   "execution_count": 36,
   "id": "d9ad75c8",
   "metadata": {},
   "outputs": [
    {
     "data": {
      "text/html": [
       "<div>\n",
       "<style scoped>\n",
       "    .dataframe tbody tr th:only-of-type {\n",
       "        vertical-align: middle;\n",
       "    }\n",
       "\n",
       "    .dataframe tbody tr th {\n",
       "        vertical-align: top;\n",
       "    }\n",
       "\n",
       "    .dataframe thead th {\n",
       "        text-align: right;\n",
       "    }\n",
       "</style>\n",
       "<table border=\"1\" class=\"dataframe\">\n",
       "  <thead>\n",
       "    <tr style=\"text-align: right;\">\n",
       "      <th></th>\n",
       "      <th>Player</th>\n",
       "      <th>Share</th>\n",
       "    </tr>\n",
       "  </thead>\n",
       "  <tbody>\n",
       "    <tr>\n",
       "      <th>666</th>\n",
       "      <td>Nikola Jokić</td>\n",
       "      <td>0.961</td>\n",
       "    </tr>\n",
       "    <tr>\n",
       "      <th>667</th>\n",
       "      <td>Joel Embiid</td>\n",
       "      <td>0.580</td>\n",
       "    </tr>\n",
       "    <tr>\n",
       "      <th>668</th>\n",
       "      <td>Stephen Curry</td>\n",
       "      <td>0.449</td>\n",
       "    </tr>\n",
       "    <tr>\n",
       "      <th>669</th>\n",
       "      <td>Giannis Antetokounmpo</td>\n",
       "      <td>0.345</td>\n",
       "    </tr>\n",
       "    <tr>\n",
       "      <th>670</th>\n",
       "      <td>Chris Paul</td>\n",
       "      <td>0.138</td>\n",
       "    </tr>\n",
       "    <tr>\n",
       "      <th>671</th>\n",
       "      <td>Luka Dončić</td>\n",
       "      <td>0.042</td>\n",
       "    </tr>\n",
       "    <tr>\n",
       "      <th>672</th>\n",
       "      <td>Damian Lillard</td>\n",
       "      <td>0.038</td>\n",
       "    </tr>\n",
       "    <tr>\n",
       "      <th>673</th>\n",
       "      <td>Julius Randle</td>\n",
       "      <td>0.020</td>\n",
       "    </tr>\n",
       "    <tr>\n",
       "      <th>674</th>\n",
       "      <td>Rudy Gobert</td>\n",
       "      <td>0.008</td>\n",
       "    </tr>\n",
       "    <tr>\n",
       "      <th>675</th>\n",
       "      <td>Russell Westbrook</td>\n",
       "      <td>0.005</td>\n",
       "    </tr>\n",
       "    <tr>\n",
       "      <th>676</th>\n",
       "      <td>Ben Simmons</td>\n",
       "      <td>0.003</td>\n",
       "    </tr>\n",
       "    <tr>\n",
       "      <th>677</th>\n",
       "      <td>LeBron James</td>\n",
       "      <td>0.001</td>\n",
       "    </tr>\n",
       "    <tr>\n",
       "      <th>678</th>\n",
       "      <td>Kawhi Leonard</td>\n",
       "      <td>0.001</td>\n",
       "    </tr>\n",
       "  </tbody>\n",
       "</table>\n",
       "</div>"
      ],
      "text/plain": [
       "                    Player  Share\n",
       "666           Nikola Jokić  0.961\n",
       "667            Joel Embiid  0.580\n",
       "668          Stephen Curry  0.449\n",
       "669  Giannis Antetokounmpo  0.345\n",
       "670             Chris Paul  0.138\n",
       "671            Luka Dončić  0.042\n",
       "672         Damian Lillard  0.038\n",
       "673          Julius Randle  0.020\n",
       "674            Rudy Gobert  0.008\n",
       "675      Russell Westbrook  0.005\n",
       "676            Ben Simmons  0.003\n",
       "677           LeBron James  0.001\n",
       "678          Kawhi Leonard  0.001"
      ]
     },
     "execution_count": 36,
     "metadata": {},
     "output_type": "execute_result"
    }
   ],
   "source": [
    "test_data[[\"Player\", \"Share\"]]"
   ]
  }
 ],
 "metadata": {
  "kernelspec": {
   "display_name": "Python 3 (ipykernel)",
   "language": "python",
   "name": "python3"
  },
  "language_info": {
   "codemirror_mode": {
    "name": "ipython",
    "version": 3
   },
   "file_extension": ".py",
   "mimetype": "text/x-python",
   "name": "python",
   "nbconvert_exporter": "python",
   "pygments_lexer": "ipython3",
   "version": "3.9.12"
  }
 },
 "nbformat": 4,
 "nbformat_minor": 5
}
